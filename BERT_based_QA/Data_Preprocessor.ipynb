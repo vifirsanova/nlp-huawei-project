{
  "nbformat": 4,
  "nbformat_minor": 0,
  "metadata": {
    "colab": {
      "name": "Data_Preprocessor.ipynb",
      "provenance": [],
      "authorship_tag": "ABX9TyObSv3+ilrVHF5vItgMce1Q"
    },
    "kernelspec": {
      "name": "python3",
      "display_name": "Python 3"
    }
  },
  "cells": [
    {
      "cell_type": "markdown",
      "metadata": {
        "id": "hKfvNlxGgDtB"
      },
      "source": [
        "# Installing libraries\n",
        "\n",
        "Installing HuggingFace Transformers (https://github.com/huggingface/transformers)"
      ]
    },
    {
      "cell_type": "code",
      "metadata": {
        "id": "Fb8BGEtXgAyA"
      },
      "source": [
        "pip install transformers"
      ],
      "execution_count": null,
      "outputs": []
    },
    {
      "cell_type": "markdown",
      "metadata": {
        "id": "7prRh1xhfB6l"
      },
      "source": [
        "\n",
        "\n",
        "Importing the libraries\n"
      ]
    },
    {
      "cell_type": "code",
      "metadata": {
        "id": "o9K6YH2NeoEw"
      },
      "source": [
        "import json\n",
        "from pathlib import Path\n",
        "from sklearn.model_selection import train_test_split\n",
        "from transformers import BertTokenizerFast \n",
        "import torch"
      ],
      "execution_count": null,
      "outputs": []
    },
    {
      "cell_type": "markdown",
      "metadata": {
        "id": "tRuKCDbpfQd7"
      },
      "source": [
        "# Dataset processing\n",
        "\n",
        "Uploading the dataset, splitting the data into train, validation and test sets"
      ]
    },
    {
      "cell_type": "code",
      "metadata": {
        "id": "ywVh-BXxfPAD"
      },
      "source": [
        "path = Path('qa_dataset.json')\n",
        "data = json.loads(path.read_text(encoding='utf-8'))\n",
        "\n",
        "train, temp = train_test_split(all_data, test_size=0.3, shuffle=True)\n",
        "val, test = train_test_split(temp, test_size=0.5, shuffle=True)"
      ],
      "execution_count": null,
      "outputs": []
    },
    {
      "cell_type": "markdown",
      "metadata": {
        "id": "VkXTOmn7gyee"
      },
      "source": [
        "Getting contexts, questions and answers from the train and validation sets"
      ]
    },
    {
      "cell_type": "code",
      "metadata": {
        "id": "Bqqh_4GtfQ44"
      },
      "source": [
        "def read_set(set):\n",
        "    \n",
        "    contexts = []\n",
        "    questions = []\n",
        "    answers = []\n",
        "\n",
        "    for group in set:\n",
        "        context = group['context']\n",
        "        for qa in group['qas']:\n",
        "            question = qa['question']\n",
        "            for answer in qa['answers']:\n",
        "                contexts.append(context)\n",
        "                questions.append(question)\n",
        "                answers.append(answer)\n",
        "\n",
        "    return contexts, questions, answers\n",
        "\n",
        "train_contexts, train_questions, train_answers = read_set(train)\n",
        "val_contexts, val_questions, val_answers = read_set(val)"
      ],
      "execution_count": null,
      "outputs": []
    },
    {
      "cell_type": "markdown",
      "metadata": {
        "id": "Pw-lw_ewhlP4"
      },
      "source": [
        "Adding span tags to answers and contexts"
      ]
    },
    {
      "cell_type": "code",
      "metadata": {
        "id": "-mfvs56EfUWM"
      },
      "source": [
        "def add_tags(answers, contexts):\n",
        "    for answer, context in zip(answers, contexts):\n",
        "        gold_text = answer['text']\n",
        "        start_tags = answer['answer_start']\n",
        "        end_tags = answer['answer_end']\n",
        "\n",
        "add_tags(train_answers, train_contexts)\n",
        "add_tags(val_answers, val_contexts)"
      ],
      "execution_count": null,
      "outputs": []
    },
    {
      "cell_type": "markdown",
      "metadata": {
        "id": "fyykpM2RjjRJ"
      },
      "source": [
        "# Tokenization and vectorization\n",
        "\n",
        "Initializating BertTokenizerFast from HuggingFace for BERT base multilingual cased pre-trained model"
      ]
    },
    {
      "cell_type": "code",
      "metadata": {
        "id": "lpJsubljfdRd"
      },
      "source": [
        "tokenizer = BertTokenizerFast.from_pretrained('bert-base-multilingual-cased')"
      ],
      "execution_count": null,
      "outputs": []
    },
    {
      "cell_type": "markdown",
      "metadata": {
        "id": "62BjfF2-kJ2y"
      },
      "source": [
        "Tokenizing and vectorizing questions and contexts with BertTokenizerFast"
      ]
    },
    {
      "cell_type": "code",
      "metadata": {
        "id": "8vJcVP_2kKLV"
      },
      "source": [
        "train_encodings = tokenizer(train_contexts, train_questions, truncation=True, padding=True)\n",
        "val_encodings = tokenizer(val_contexts, val_questions, truncation=True, padding=True)"
      ],
      "execution_count": null,
      "outputs": []
    },
    {
      "cell_type": "markdown",
      "metadata": {
        "id": "0LLl8Dj9kZ_r"
      },
      "source": [
        "# Preparing the data for training\n",
        "\n",
        "Adding token positions to answers"
      ]
    },
    {
      "cell_type": "code",
      "metadata": {
        "id": "w4d2Xs9nfqmr"
      },
      "source": [
        "def add_positions(encodings, answers):\n",
        "    start_positions = []\n",
        "    end_positions = []\n",
        "    for i in range(len(answers)):\n",
        "        start_positions.append(encodings.char_to_token(i, answers[i]['answer_start']))\n",
        "        end_positions.append(encodings.char_to_token(i, answers[i]['answer_end']))\n",
        "    encodings.update({'start_positions': start_positions, 'end_positions': end_positions})\n",
        "\n",
        "add_positions(train_encodings, train_answers)\n",
        "add_positions(val_encodings, val_answers)"
      ],
      "execution_count": null,
      "outputs": []
    },
    {
      "cell_type": "markdown",
      "metadata": {
        "id": "A25yijMWk4Wj"
      },
      "source": [
        "Adapting the data for training with PyTorch"
      ]
    },
    {
      "cell_type": "code",
      "metadata": {
        "id": "mav7cNayfuPo"
      },
      "source": [
        "class Dataset(torch.utils.data.Dataset):\n",
        "    def __init__(self, encodings):\n",
        "        self.encodings = encodings\n",
        "\n",
        "    def __getitem__(self, idx):\n",
        "        return {key: torch.tensor(val[idx]) for key, val in self.encodings.items()}\n",
        "\n",
        "    def __len__(self):\n",
        "        return len(self.encodings.input_ids)\n",
        "\n",
        "train_dataset = Dataset(train_encodings)\n",
        "val_dataset = Dataset(val_encodings)"
      ],
      "execution_count": null,
      "outputs": []
    }
  ]
}
