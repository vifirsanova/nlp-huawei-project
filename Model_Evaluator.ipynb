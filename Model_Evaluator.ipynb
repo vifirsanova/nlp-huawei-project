{
  "nbformat": 4,
  "nbformat_minor": 0,
  "metadata": {
    "colab": {
      "name": "Model_Evaluator",
      "provenance": [],
      "collapsed_sections": [],
      "authorship_tag": "ABX9TyPbGKXLmQszqZwpzI8FoQNj"
    },
    "kernelspec": {
      "name": "python3",
      "display_name": "Python 3"
    }
  },
  "cells": [
    {
      "cell_type": "markdown",
      "metadata": {
        "id": "bCUwmG6-yaW6"
      },
      "source": [
        "## Importing libraries"
      ]
    },
    {
      "cell_type": "code",
      "metadata": {
        "id": "BW3Kx4oSm5Yx"
      },
      "source": [
        "from collections import counter"
      ],
      "execution_count": null,
      "outputs": []
    },
    {
      "cell_type": "markdown",
      "metadata": {
        "id": "1NUtwgpkyapY"
      },
      "source": [
        "## Getting the results on the validation set\n",
        "\n",
        "Sending the model to CPU"
      ]
    },
    {
      "cell_type": "code",
      "metadata": {
        "id": "4mBNSmbRS5Li"
      },
      "source": [
        "model.to('cpu')"
      ],
      "execution_count": null,
      "outputs": []
    },
    {
      "cell_type": "markdown",
      "metadata": {
        "id": "d4R0NToRyhw1"
      },
      "source": [
        "Getting the model answers to evaluate"
      ]
    },
    {
      "cell_type": "code",
      "metadata": {
        "id": "rlMGdNmKyh_k"
      },
      "source": [
        "eval_answers = []\n",
        "\n",
        "for i in range(len(val_questions)):\n",
        "  question, text = val_questions[i], val_contexts[i]\n",
        "\n",
        "  input_text = \"[CLS] \" + question + \" [SEP] \" + text + \" [SEP]\"\n",
        "\n",
        "  input_ids = tokenizer.encode(input_text)\n",
        "  token_type_ids = [0 if i <= input_ids.index(102) else 1\n",
        "      for i in range(len(input_ids))]\n",
        "\n",
        "  start_scores, end_scores = model(torch.tensor([input_ids]), \\\n",
        "      token_type_ids=torch.tensor([token_type_ids]))\n",
        "\n",
        "  all_tokens = tokenizer.convert_ids_to_tokens(input_ids)\n",
        "  ans = ' '.join(all_tokens[torch.argmax(start_scores) : torch.argmax(end_scores)+1])\n",
        "\n",
        "  eval_answers.append(ans)"
      ],
      "execution_count": null,
      "outputs": []
    },
    {
      "cell_type": "markdown",
      "metadata": {
        "id": "1tOsaLP-ya5N"
      },
      "source": [
        "Counting Precision, Recall and F1-Score"
      ]
    },
    {
      "cell_type": "code",
      "metadata": {
        "id": "pJZUab9gEqJD"
      },
      "source": [
        "num_c = []\n",
        "num_p = []\n",
        "num_g = []\n",
        "\n",
        "for a in range(len(eval_answers)):\n",
        "\n",
        "  common = collections.Counter(val_answers[a].split()) & collections.Counter(eval_answers[a].split()) # tokens shared between gold and predicted answers\n",
        "  num_common = sum(common.values())\n",
        "  if len(str(val_answers[a]).split()) == 0 or len(str(eval_answers[a]).split() == 0:\n",
        "    num_common = int(len(str(val_answers[a]).split()) == len(str(eval_answers[a]).split())\n",
        "\n",
        "  num_pred = len(str(eval_answers[a]).split()) # the number of predicted tokens\n",
        "\n",
        "  num_gold = len(str(val_answers[a]).split()) # the number of gold tokens\n",
        "\n",
        "  num_c.append(num_common)\n",
        "  num_p.append(num_pred)\n",
        "  num_g.append(num_gold)\n",
        "\n",
        "precision = 1.0 * sum(num_c) / sum(num_p) # the num of tokens shared between gold and predicted answers / the num of predicted tokens\n",
        "recall = 1.0 * sum(num_c) / sum(num_g) # the num of tokens shared between gold and predicted answers / the num of gold tokens\n",
        "f1_score = (2 * precision * recall) / (precision + recall)"
      ],
      "execution_count": null,
      "outputs": []
    }
  ]
}